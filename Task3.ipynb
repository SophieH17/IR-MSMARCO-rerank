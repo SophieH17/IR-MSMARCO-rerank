{
 "cells": [
  {
   "cell_type": "markdown",
   "metadata": {
    "id": "5BjaydBLwwfA"
   },
   "source": [
    "## Installation"
   ]
  },
  {
   "cell_type": "code",
   "execution_count": null,
   "metadata": {
    "colab": {
     "base_uri": "https://localhost:8080/"
    },
    "id": "hGotJWu2wzVM",
    "outputId": "1abd9406-2972-464b-8b00-bbbcb5d7b87f"
   },
   "outputs": [],
   "source": [
    "!pip install ranx"
   ]
  },
  {
   "cell_type": "markdown",
   "metadata": {
    "id": "v4m91j1F3qV0"
   },
   "source": [
    "### Imports"
   ]
  },
  {
   "cell_type": "code",
   "execution_count": null,
   "metadata": {
    "id": "LZijs1Rg3jV-"
   },
   "outputs": [],
   "source": [
    "import os\n",
    "import gzip\n",
    "import logging\n",
    "from collections import defaultdict\n",
    "from ranx import Qrels, Run, fuse, optimize_fusion, evaluate\n",
    "from google.colab import drive\n",
    "from ranx import fuse, optimize_fusion, evaluate\n",
    "import numpy as np\n",
    "from google.colab import drive\n",
    "import os\n",
    "from ranx import Run"
   ]
  },
  {
   "cell_type": "markdown",
   "metadata": {
    "id": "pC4ELxc8vyS-"
   },
   "source": [
    "## Some Preparation"
   ]
  },
  {
   "cell_type": "markdown",
   "metadata": {
    "id": "DKV4MRNp0nXQ"
   },
   "source": [
    "### Get qrels"
   ]
  },
  {
   "cell_type": "code",
   "execution_count": null,
   "metadata": {
    "colab": {
     "base_uri": "https://localhost:8080/"
    },
    "id": "7sBmE_Xr3Wvf",
    "outputId": "edc5f89b-961d-451d-e212-98f99e08d80b"
   },
   "outputs": [],
   "source": [
    "data_folder = 'trec2019-data'\n",
    "os.makedirs(data_folder, exist_ok=True)\n",
    "\n",
    "!wget https://msmarco.z22.web.core.windows.net/msmarcoranking/queries.tar.gz\n",
    "!tar -xvzf queries.tar.gz\n",
    "\n",
    "model_save_path = \"/content/gdrive/MyDrive/cross-encoder-reranker-ir-course-2023/finetuned_models/cross-encoder-distilbert-distilroberta-base-2024-05-12_07-39-41\"\n",
    "\n",
    "queries = {}\n",
    "queries_filepath = os.path.join(data_folder, 'msmarco-test2019-queries.tsv.gz')\n",
    "if not os.path.exists(queries_filepath):\n",
    "    logging.info(\"Download \" + os.path.basename(queries_filepath))\n",
    "    !wget https://msmarco.z22.web.core.windows.net/msmarcoranking/msmarco-test2019-queries.tsv.gz -O {queries_filepath}\n",
    "\n",
    "with gzip.open(queries_filepath, 'rt', encoding='utf8') as fIn:\n",
    "    for line in fIn:\n",
    "        qid, query = line.strip().split(\"\\t\")\n",
    "        queries[qid] = query\n",
    "\n",
    "relevant_docs = defaultdict(lambda: defaultdict(int))\n",
    "qrels_filepath = os.path.join(data_folder, '2019qrels-pass.txt')\n",
    "\n",
    "if not os.path.exists(qrels_filepath):\n",
    "    logging.info(\"Download \" + os.path.basename(qrels_filepath))\n",
    "    !wget https://trec.nist.gov/data/deep/2019qrels-pass.txt -O {qrels_filepath}\n",
    "\n",
    "with open(qrels_filepath) as fIn:\n",
    "    for line in fIn:\n",
    "        qid, _, pid, score = line.strip().split()\n",
    "        score = int(score)\n",
    "        if score > 0:\n",
    "            relevant_docs[qid][pid] = score\n",
    "\n",
    "relevant_qid = [qid for qid in queries if len(relevant_docs[qid]) > 0]\n",
    "\n",
    "qrels = Qrels(relevant_docs)"
   ]
  },
  {
   "cell_type": "markdown",
   "metadata": {
    "id": "vHkPMF7M0ily"
   },
   "source": [
    "### Get Run Files"
   ]
  },
  {
   "cell_type": "code",
   "execution_count": null,
   "metadata": {
    "colab": {
     "base_uri": "https://localhost:8080/"
    },
    "id": "mowOQArcv1du",
    "outputId": "c48f4996-dd0f-4bb3-b6ee-1d007964d25d"
   },
   "outputs": [],
   "source": [
    "\n",
    "drive.mount('/content/gdrive')\n",
    "\n",
    "base_path = \"/content/gdrive/MyDrive/cross-encoder-reranker-ir-course-2023/\"\n",
    "\n",
    "file_paths = [\n",
    "    \"finetuned_models/cross-encoder-cross-encoder-ms-marco-MiniLM-L-2-v2-2024-05-10_20-46-58ranking.run\",\n",
    "    \"finetuned_models/cross-encoder-cross-encoder-ms-marco-TinyBERT-L-2-v2-2024-05-11_07-11-32ranking.run\",\n",
    "    \"finetuned_models/cross-encoder-distilbert-distilroberta-base-2024-05-12_07-39-41ranking.run\"\n",
    "]\n",
    "\n",
    "runs = {}\n",
    "runs['mini_tiny'] = []\n",
    "runs['mini_dist'] = []\n",
    "runs['tiny_dist'] = []\n",
    "for file_path in file_paths:\n",
    "    full_path = os.path.join(base_path, file_path)\n",
    "    run = Run.from_file(full_path, kind=\"trec\")\n",
    "    # runs.append(run)\n",
    "    if 'MiniLM' in file_path:\n",
    "        runs['mini_tiny'].append(run)\n",
    "        runs['mini_dist'].append(run)\n",
    "    elif 'distilroberta' in file_path:\n",
    "        runs['mini_dist'].append(run)\n",
    "        runs['tiny_dist'].append(run)\n",
    "    else:\n",
    "        runs['mini_tiny'].append(run)\n",
    "        runs['tiny_dist'].append(run)\n",
    "\n",
    "common_qids = set(qrels.qrels.keys()).intersection(*[set(run.keys()) for run_list in runs.values() for run in run_list])\n",
    "\n",
    "filtered_qrels = {qid: {doc_id: score for doc_id, score in qrels[qid].items()} for qid in common_qids}\n",
    "filtered_runs = {key: [{qid: run[qid] for qid in common_qids} for run in run_list] for key, run_list in runs.items()}\n",
    "\n",
    "qrels = Qrels(filtered_qrels)\n",
    "runs = {key: [Run(run) for run in run_list] for key, run_list in filtered_runs.items()}"
   ]
  },
  {
   "cell_type": "markdown",
   "metadata": {
    "id": "ffH220i90uOD"
   },
   "source": [
    "### Get best_params"
   ]
  },
  {
   "cell_type": "markdown",
   "metadata": {
    "id": "yLXQ5vE4yNCS"
   },
   "source": [
    "## Ensemble Methods"
   ]
  },
  {
   "cell_type": "markdown",
   "metadata": {
    "id": "_K4XUmvl8mbx"
   },
   "source": [
    "### 1. RRF (Reciprocal Rank Fusion, Rank-based Method)"
   ]
  },
  {
   "cell_type": "code",
   "execution_count": null,
   "metadata": {
    "colab": {
     "base_uri": "https://localhost:8080/",
     "height": 434,
     "referenced_widgets": [
      "751c77c7746d4dbb8d20b79cedd9fc1e",
      "634e978c9c0545c28bb7cc0de053ec2c",
      "ad826eb7f0a74a5995265aed54685848",
      "8eb60142557e4871ac0835b8d1c5cc2c",
      "4d6d7d25d26245459d4456e087c66e41",
      "8a0dada1e7544edcb85aab2cfa6d3920"
     ]
    },
    "id": "l-qw9sWZtFPc",
    "outputId": "84089b18-dfd5-4983-cf19-c67c667c63cd"
   },
   "outputs": [],
   "source": [
    "# 1. RRF (Reciprocal Rank Fusion, Rank-based Method)\n",
    "for key, run_list in runs.items():\n",
    "    print(key,\":\")\n",
    "\n",
    "    best_params = optimize_fusion(\n",
    "        qrels=qrels,\n",
    "        runs=run_list,\n",
    "        norm=\"min-max\",\n",
    "        method=\"rrf\",\n",
    "        metric=\"ndcg@100\"\n",
    "    )\n",
    "\n",
    "    combined_run = fuse(\n",
    "        runs=run_list,\n",
    "        norm=\"min-max\",\n",
    "        method=\"rrf\",\n",
    "        params=best_params,\n",
    "    )\n",
    "\n",
    "    metrics = evaluate(\n",
    "        qrels=qrels,\n",
    "        run=combined_run,\n",
    "        metrics=[\"ndcg@10\", \"recall@100\", \"map@1000\"]\n",
    "    )\n",
    "\n",
    "    print(metrics)\n",
    "\n",
    "    ndcg_10 = metrics['ndcg@10'] * 100\n",
    "    recall_100 = metrics['recall@100'] * 100\n",
    "    map_1000 = metrics['map@1000'] * 100\n",
    "\n",
    "    print(f\"Queries: {len(common_qids)}\")\n",
    "    print(f\"NDCG@10: {ndcg_10:.2f}\")\n",
    "    print(f\"Recall@100: {recall_100:.2f}\")\n",
    "    print(f\"MAP@1000: {map_1000:.2f}\")"
   ]
  },
  {
   "cell_type": "markdown",
   "metadata": {
    "id": "A2wZEedx9Q9Z"
   },
   "source": [
    "### 2. BayesFuse"
   ]
  },
  {
   "cell_type": "code",
   "execution_count": null,
   "metadata": {
    "colab": {
     "base_uri": "https://localhost:8080/"
    },
    "id": "g_ozW3tX9JmZ",
    "outputId": "fd856279-2e40-480a-e982-2e5b81f23725"
   },
   "outputs": [],
   "source": [
    "# 2. BayesFuse\n",
    "for key, run_list in runs.items():\n",
    "    print(key,\":\")\n",
    "\n",
    "    best_params = optimize_fusion(\n",
    "        qrels=qrels,\n",
    "        runs=run_list,\n",
    "        norm=\"min-max\",\n",
    "        method=\"bayesfuse\",\n",
    "        metric=\"ndcg@100\"\n",
    "    )\n",
    "    combined_run = fuse(\n",
    "        runs=run_list,\n",
    "        norm=\"min-max\",\n",
    "        method=\"bayesfuse\",\n",
    "        params=best_params,\n",
    "    )\n",
    "\n",
    "    metrics = evaluate(\n",
    "        qrels=qrels,\n",
    "        run=combined_run,\n",
    "        metrics=[\"ndcg@10\", \"recall@100\", \"map@1000\"]\n",
    "    )\n",
    "\n",
    "    print(metrics)\n",
    "\n",
    "    ndcg_10 = metrics['ndcg@10'] * 100\n",
    "    recall_100 = metrics['recall@100'] * 100\n",
    "    map_1000 = metrics['map@1000'] * 100\n",
    "\n",
    "    print(f\"Queries: {len(common_qids)}\")\n",
    "    print(f\"NDCG@10: {ndcg_10:.2f}\")\n",
    "    print(f\"Recall@100: {recall_100:.2f}\")\n",
    "    print(f\"MAP@1000: {map_1000:.2f}\")"
   ]
  }
 ],
 "metadata": {
  "accelerator": "GPU",
  "colab": {
   "machine_shape": "hm",
   "provenance": []
  },
  "gpuClass": "standard",
  "kernelspec": {
   "display_name": "Python 3",
   "name": "python3"
  },
  "language_info": {
   "name": "python"
  },
  "widgets": {
   "application/vnd.jupyter.widget-state+json": {
    "4d6d7d25d26245459d4456e087c66e41": {
     "model_module": "@jupyter-widgets/output",
     "model_module_version": "1.0.0",
     "model_name": "OutputModel",
     "state": {
      "_dom_classes": [],
      "_model_module": "@jupyter-widgets/output",
      "_model_module_version": "1.0.0",
      "_model_name": "OutputModel",
      "_view_count": null,
      "_view_module": "@jupyter-widgets/output",
      "_view_module_version": "1.0.0",
      "_view_name": "OutputView",
      "layout": "IPY_MODEL_8a0dada1e7544edcb85aab2cfa6d3920",
      "msg_id": "",
      "outputs": [
       {
        "data": {
         "text/html": "<pre style=\"white-space:pre;overflow-x:auto;line-height:normal;font-family:Menlo,'DejaVu Sans Mono',consolas,'Courier New',monospace\">Optimizing RRF <span style=\"color: #729c1f; text-decoration-color: #729c1f\">━━━━━━━━━━━━━━━━━━━━━━━━━━━━━━━━━━━━━━━━</span> <span style=\"color: #800080; text-decoration-color: #800080\">100%</span> <span style=\"color: #808000; text-decoration-color: #808000\">0:00:01</span>\n</pre>\n",
         "text/plain": "Optimizing RRF \u001b[38;2;114;156;31m━━━━━━━━━━━━━━━━━━━━━━━━━━━━━━━━━━━━━━━━\u001b[0m \u001b[35m100%\u001b[0m \u001b[33m0:00:01\u001b[0m\n"
        },
        "metadata": {},
        "output_type": "display_data"
       }
      ]
     }
    },
    "634e978c9c0545c28bb7cc0de053ec2c": {
     "model_module": "@jupyter-widgets/base",
     "model_module_version": "1.2.0",
     "model_name": "LayoutModel",
     "state": {
      "_model_module": "@jupyter-widgets/base",
      "_model_module_version": "1.2.0",
      "_model_name": "LayoutModel",
      "_view_count": null,
      "_view_module": "@jupyter-widgets/base",
      "_view_module_version": "1.2.0",
      "_view_name": "LayoutView",
      "align_content": null,
      "align_items": null,
      "align_self": null,
      "border": null,
      "bottom": null,
      "display": null,
      "flex": null,
      "flex_flow": null,
      "grid_area": null,
      "grid_auto_columns": null,
      "grid_auto_flow": null,
      "grid_auto_rows": null,
      "grid_column": null,
      "grid_gap": null,
      "grid_row": null,
      "grid_template_areas": null,
      "grid_template_columns": null,
      "grid_template_rows": null,
      "height": null,
      "justify_content": null,
      "justify_items": null,
      "left": null,
      "margin": null,
      "max_height": null,
      "max_width": null,
      "min_height": null,
      "min_width": null,
      "object_fit": null,
      "object_position": null,
      "order": null,
      "overflow": null,
      "overflow_x": null,
      "overflow_y": null,
      "padding": null,
      "right": null,
      "top": null,
      "visibility": null,
      "width": null
     }
    },
    "751c77c7746d4dbb8d20b79cedd9fc1e": {
     "model_module": "@jupyter-widgets/output",
     "model_module_version": "1.0.0",
     "model_name": "OutputModel",
     "state": {
      "_dom_classes": [],
      "_model_module": "@jupyter-widgets/output",
      "_model_module_version": "1.0.0",
      "_model_name": "OutputModel",
      "_view_count": null,
      "_view_module": "@jupyter-widgets/output",
      "_view_module_version": "1.0.0",
      "_view_name": "OutputView",
      "layout": "IPY_MODEL_634e978c9c0545c28bb7cc0de053ec2c",
      "msg_id": "",
      "outputs": [
       {
        "data": {
         "text/html": "<pre style=\"white-space:pre;overflow-x:auto;line-height:normal;font-family:Menlo,'DejaVu Sans Mono',consolas,'Courier New',monospace\">Optimizing RRF <span style=\"color: #729c1f; text-decoration-color: #729c1f\">━━━━━━━━━━━━━━━━━━━━━━━━━━━━━━━━━━━━━━━━</span> <span style=\"color: #800080; text-decoration-color: #800080\">100%</span> <span style=\"color: #808000; text-decoration-color: #808000\">0:00:36</span>\n</pre>\n",
         "text/plain": "Optimizing RRF \u001b[38;2;114;156;31m━━━━━━━━━━━━━━━━━━━━━━━━━━━━━━━━━━━━━━━━\u001b[0m \u001b[35m100%\u001b[0m \u001b[33m0:00:36\u001b[0m\n"
        },
        "metadata": {},
        "output_type": "display_data"
       }
      ]
     }
    },
    "8a0dada1e7544edcb85aab2cfa6d3920": {
     "model_module": "@jupyter-widgets/base",
     "model_module_version": "1.2.0",
     "model_name": "LayoutModel",
     "state": {
      "_model_module": "@jupyter-widgets/base",
      "_model_module_version": "1.2.0",
      "_model_name": "LayoutModel",
      "_view_count": null,
      "_view_module": "@jupyter-widgets/base",
      "_view_module_version": "1.2.0",
      "_view_name": "LayoutView",
      "align_content": null,
      "align_items": null,
      "align_self": null,
      "border": null,
      "bottom": null,
      "display": null,
      "flex": null,
      "flex_flow": null,
      "grid_area": null,
      "grid_auto_columns": null,
      "grid_auto_flow": null,
      "grid_auto_rows": null,
      "grid_column": null,
      "grid_gap": null,
      "grid_row": null,
      "grid_template_areas": null,
      "grid_template_columns": null,
      "grid_template_rows": null,
      "height": null,
      "justify_content": null,
      "justify_items": null,
      "left": null,
      "margin": null,
      "max_height": null,
      "max_width": null,
      "min_height": null,
      "min_width": null,
      "object_fit": null,
      "object_position": null,
      "order": null,
      "overflow": null,
      "overflow_x": null,
      "overflow_y": null,
      "padding": null,
      "right": null,
      "top": null,
      "visibility": null,
      "width": null
     }
    },
    "8eb60142557e4871ac0835b8d1c5cc2c": {
     "model_module": "@jupyter-widgets/base",
     "model_module_version": "1.2.0",
     "model_name": "LayoutModel",
     "state": {
      "_model_module": "@jupyter-widgets/base",
      "_model_module_version": "1.2.0",
      "_model_name": "LayoutModel",
      "_view_count": null,
      "_view_module": "@jupyter-widgets/base",
      "_view_module_version": "1.2.0",
      "_view_name": "LayoutView",
      "align_content": null,
      "align_items": null,
      "align_self": null,
      "border": null,
      "bottom": null,
      "display": null,
      "flex": null,
      "flex_flow": null,
      "grid_area": null,
      "grid_auto_columns": null,
      "grid_auto_flow": null,
      "grid_auto_rows": null,
      "grid_column": null,
      "grid_gap": null,
      "grid_row": null,
      "grid_template_areas": null,
      "grid_template_columns": null,
      "grid_template_rows": null,
      "height": null,
      "justify_content": null,
      "justify_items": null,
      "left": null,
      "margin": null,
      "max_height": null,
      "max_width": null,
      "min_height": null,
      "min_width": null,
      "object_fit": null,
      "object_position": null,
      "order": null,
      "overflow": null,
      "overflow_x": null,
      "overflow_y": null,
      "padding": null,
      "right": null,
      "top": null,
      "visibility": null,
      "width": null
     }
    },
    "ad826eb7f0a74a5995265aed54685848": {
     "model_module": "@jupyter-widgets/output",
     "model_module_version": "1.0.0",
     "model_name": "OutputModel",
     "state": {
      "_dom_classes": [],
      "_model_module": "@jupyter-widgets/output",
      "_model_module_version": "1.0.0",
      "_model_name": "OutputModel",
      "_view_count": null,
      "_view_module": "@jupyter-widgets/output",
      "_view_module_version": "1.0.0",
      "_view_name": "OutputView",
      "layout": "IPY_MODEL_8eb60142557e4871ac0835b8d1c5cc2c",
      "msg_id": "",
      "outputs": [
       {
        "data": {
         "text/html": "<pre style=\"white-space:pre;overflow-x:auto;line-height:normal;font-family:Menlo,'DejaVu Sans Mono',consolas,'Courier New',monospace\">Optimizing RRF <span style=\"color: #729c1f; text-decoration-color: #729c1f\">━━━━━━━━━━━━━━━━━━━━━━━━━━━━━━━━━━━━━━━━</span> <span style=\"color: #800080; text-decoration-color: #800080\">100%</span> <span style=\"color: #808000; text-decoration-color: #808000\">0:00:01</span>\n</pre>\n",
         "text/plain": "Optimizing RRF \u001b[38;2;114;156;31m━━━━━━━━━━━━━━━━━━━━━━━━━━━━━━━━━━━━━━━━\u001b[0m \u001b[35m100%\u001b[0m \u001b[33m0:00:01\u001b[0m\n"
        },
        "metadata": {},
        "output_type": "display_data"
       }
      ]
     }
    }
   }
  }
 },
 "nbformat": 4,
 "nbformat_minor": 0
}
