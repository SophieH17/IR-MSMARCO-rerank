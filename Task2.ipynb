{
  "cells": [
    {
      "cell_type": "markdown",
      "metadata": {
        "id": "5BjaydBLwwfA"
      },
      "source": [
        "## Installation"
      ]
    },
    {
      "cell_type": "code",
      "execution_count": null,
      "metadata": {
        "colab": {
          "base_uri": "https://localhost:8080/"
        },
        "id": "hGotJWu2wzVM",
        "outputId": "7b307cef-43e7-49c4-aa5d-7b13142f5c0f"
      },
      "outputs": [
        {
          "name": "stdout",
          "output_type": "stream",
          "text": [
            "Collecting ranx\n",
            "  Downloading ranx-0.3.19-py3-none-any.whl (99 kB)\n",
            "\u001b[?25l     \u001b[90m━━━━━━━━━━━━━━━━━━━━━━━━━━━━━━━━━━━━━━━━\u001b[0m \u001b[32m0.0/99.2 kB\u001b[0m \u001b[31m?\u001b[0m eta \u001b[36m-:--:--\u001b[0m\r\u001b[2K     \u001b[90m━━━━━━━━━━━━━━━━━━━━━━━━━━━━━━━━━━━━━━━━\u001b[0m \u001b[32m99.2/99.2 kB\u001b[0m \u001b[31m2.9 MB/s\u001b[0m eta \u001b[36m0:00:00\u001b[0m\n",
            "\u001b[?25hRequirement already satisfied: numpy in /usr/local/lib/python3.10/dist-packages (from ranx) (1.25.2)\n",
            "Requirement already satisfied: numba>=0.54.1 in /usr/local/lib/python3.10/dist-packages (from ranx) (0.58.1)\n",
            "Requirement already satisfied: pandas in /usr/local/lib/python3.10/dist-packages (from ranx) (2.0.3)\n",
            "Requirement already satisfied: tabulate in /usr/local/lib/python3.10/dist-packages (from ranx) (0.9.0)\n",
            "Requirement already satisfied: tqdm in /usr/local/lib/python3.10/dist-packages (from ranx) (4.66.4)\n",
            "Requirement already satisfied: scipy>=1.8.0 in /usr/local/lib/python3.10/dist-packages (from ranx) (1.11.4)\n",
            "Collecting ir-datasets (from ranx)\n",
            "  Downloading ir_datasets-0.5.7-py3-none-any.whl (337 kB)\n",
            "\u001b[2K     \u001b[90m━━━━━━━━━━━━━━━━━━━━━━━━━━━━━━━━━━━━━━━━\u001b[0m \u001b[32m337.9/337.9 kB\u001b[0m \u001b[31m7.5 MB/s\u001b[0m eta \u001b[36m0:00:00\u001b[0m\n",
            "\u001b[?25hRequirement already satisfied: rich in /usr/local/lib/python3.10/dist-packages (from ranx) (13.7.1)\n",
            "Collecting orjson (from ranx)\n",
            "  Downloading orjson-3.10.3-cp310-cp310-manylinux_2_17_x86_64.manylinux2014_x86_64.whl (142 kB)\n",
            "\u001b[2K     \u001b[90m━━━━━━━━━━━━━━━━━━━━━━━━━━━━━━━━━━━━━━━━\u001b[0m \u001b[32m142.5/142.5 kB\u001b[0m \u001b[31m7.2 MB/s\u001b[0m eta \u001b[36m0:00:00\u001b[0m\n",
            "\u001b[?25hCollecting lz4 (from ranx)\n",
            "  Downloading lz4-4.3.3-cp310-cp310-manylinux_2_17_x86_64.manylinux2014_x86_64.whl (1.3 MB)\n",
            "\u001b[2K     \u001b[90m━━━━━━━━━━━━━━━━━━━━━━━━━━━━━━━━━━━━━━━━\u001b[0m \u001b[32m1.3/1.3 MB\u001b[0m \u001b[31m13.9 MB/s\u001b[0m eta \u001b[36m0:00:00\u001b[0m\n",
            "\u001b[?25hCollecting cbor2 (from ranx)\n",
            "  Downloading cbor2-5.6.3-cp310-cp310-manylinux_2_17_x86_64.manylinux2014_x86_64.whl (242 kB)\n",
            "\u001b[2K     \u001b[90m━━━━━━━━━━━━━━━━━━━━━━━━━━━━━━━━━━━━━━━━\u001b[0m \u001b[32m242.1/242.1 kB\u001b[0m \u001b[31m14.2 MB/s\u001b[0m eta \u001b[36m0:00:00\u001b[0m\n",
            "\u001b[?25hRequirement already satisfied: seaborn in /usr/local/lib/python3.10/dist-packages (from ranx) (0.13.1)\n",
            "Collecting fastparquet (from ranx)\n",
            "  Downloading fastparquet-2024.2.0-cp310-cp310-manylinux_2_17_x86_64.manylinux2014_x86_64.whl (1.7 MB)\n",
            "\u001b[2K     \u001b[90m━━━━━━━━━━━━━━━━━━━━━━━━━━━━━━━━━━━━━━━━\u001b[0m \u001b[32m1.7/1.7 MB\u001b[0m \u001b[31m23.7 MB/s\u001b[0m eta \u001b[36m0:00:00\u001b[0m\n",
            "\u001b[?25hRequirement already satisfied: llvmlite<0.42,>=0.41.0dev0 in /usr/local/lib/python3.10/dist-packages (from numba>=0.54.1->ranx) (0.41.1)\n",
            "Collecting cramjam>=2.3 (from fastparquet->ranx)\n",
            "  Downloading cramjam-2.8.3-cp310-cp310-manylinux_2_17_x86_64.manylinux2014_x86_64.whl (2.0 MB)\n",
            "\u001b[2K     \u001b[90m━━━━━━━━━━━━━━━━━━━━━━━━━━━━━━━━━━━━━━━━\u001b[0m \u001b[32m2.0/2.0 MB\u001b[0m \u001b[31m32.8 MB/s\u001b[0m eta \u001b[36m0:00:00\u001b[0m\n",
            "\u001b[?25hRequirement already satisfied: fsspec in /usr/local/lib/python3.10/dist-packages (from fastparquet->ranx) (2023.6.0)\n",
            "Requirement already satisfied: packaging in /usr/local/lib/python3.10/dist-packages (from fastparquet->ranx) (24.0)\n",
            "Requirement already satisfied: python-dateutil>=2.8.2 in /usr/local/lib/python3.10/dist-packages (from pandas->ranx) (2.8.2)\n",
            "Requirement already satisfied: pytz>=2020.1 in /usr/local/lib/python3.10/dist-packages (from pandas->ranx) (2023.4)\n",
            "Requirement already satisfied: tzdata>=2022.1 in /usr/local/lib/python3.10/dist-packages (from pandas->ranx) (2024.1)\n",
            "Requirement already satisfied: beautifulsoup4>=4.4.1 in /usr/local/lib/python3.10/dist-packages (from ir-datasets->ranx) (4.12.3)\n",
            "Collecting inscriptis>=2.2.0 (from ir-datasets->ranx)\n",
            "  Downloading inscriptis-2.5.0-py3-none-any.whl (45 kB)\n",
            "\u001b[2K     \u001b[90m━━━━━━━━━━━━━━━━━━━━━━━━━━━━━━━━━━━━━━━━\u001b[0m \u001b[32m45.4/45.4 kB\u001b[0m \u001b[31m5.7 MB/s\u001b[0m eta \u001b[36m0:00:00\u001b[0m\n",
            "\u001b[?25hRequirement already satisfied: lxml>=4.5.2 in /usr/local/lib/python3.10/dist-packages (from ir-datasets->ranx) (4.9.4)\n",
            "Requirement already satisfied: pyyaml>=5.3.1 in /usr/local/lib/python3.10/dist-packages (from ir-datasets->ranx) (6.0.1)\n",
            "Requirement already satisfied: requests>=2.22.0 in /usr/local/lib/python3.10/dist-packages (from ir-datasets->ranx) (2.31.0)\n",
            "Collecting trec-car-tools>=2.5.4 (from ir-datasets->ranx)\n",
            "  Downloading trec_car_tools-2.6-py3-none-any.whl (8.4 kB)\n",
            "Collecting warc3-wet>=0.2.3 (from ir-datasets->ranx)\n",
            "  Downloading warc3_wet-0.2.3-py3-none-any.whl (13 kB)\n",
            "Collecting warc3-wet-clueweb09>=0.2.5 (from ir-datasets->ranx)\n",
            "  Downloading warc3-wet-clueweb09-0.2.5.tar.gz (17 kB)\n",
            "  Preparing metadata (setup.py) ... \u001b[?25l\u001b[?25hdone\n",
            "Collecting zlib-state>=0.1.3 (from ir-datasets->ranx)\n",
            "  Downloading zlib-state-0.1.6.tar.gz (9.5 kB)\n",
            "  Installing build dependencies ... \u001b[?25l\u001b[?25hdone\n",
            "  Getting requirements to build wheel ... \u001b[?25l\u001b[?25hdone\n",
            "  Installing backend dependencies ... \u001b[?25l\u001b[?25hdone\n",
            "  Preparing metadata (pyproject.toml) ... \u001b[?25l\u001b[?25hdone\n",
            "Collecting ijson>=3.1.3 (from ir-datasets->ranx)\n",
            "  Downloading ijson-3.2.3-cp310-cp310-manylinux_2_17_x86_64.manylinux2014_x86_64.whl (111 kB)\n",
            "\u001b[2K     \u001b[90m━━━━━━━━━━━━━━━━━━━━━━━━━━━━━━━━━━━━━━━━\u001b[0m \u001b[32m111.8/111.8 kB\u001b[0m \u001b[31m11.7 MB/s\u001b[0m eta \u001b[36m0:00:00\u001b[0m\n",
            "\u001b[?25hCollecting unlzw3>=0.2.1 (from ir-datasets->ranx)\n",
            "  Downloading unlzw3-0.2.2-py3-none-any.whl (6.1 kB)\n",
            "Requirement already satisfied: markdown-it-py>=2.2.0 in /usr/local/lib/python3.10/dist-packages (from rich->ranx) (3.0.0)\n",
            "Requirement already satisfied: pygments<3.0.0,>=2.13.0 in /usr/local/lib/python3.10/dist-packages (from rich->ranx) (2.16.1)\n",
            "Requirement already satisfied: matplotlib!=3.6.1,>=3.4 in /usr/local/lib/python3.10/dist-packages (from seaborn->ranx) (3.7.1)\n",
            "Requirement already satisfied: soupsieve>1.2 in /usr/local/lib/python3.10/dist-packages (from beautifulsoup4>=4.4.1->ir-datasets->ranx) (2.5)\n",
            "Requirement already satisfied: mdurl~=0.1 in /usr/local/lib/python3.10/dist-packages (from markdown-it-py>=2.2.0->rich->ranx) (0.1.2)\n",
            "Requirement already satisfied: contourpy>=1.0.1 in /usr/local/lib/python3.10/dist-packages (from matplotlib!=3.6.1,>=3.4->seaborn->ranx) (1.2.1)\n",
            "Requirement already satisfied: cycler>=0.10 in /usr/local/lib/python3.10/dist-packages (from matplotlib!=3.6.1,>=3.4->seaborn->ranx) (0.12.1)\n",
            "Requirement already satisfied: fonttools>=4.22.0 in /usr/local/lib/python3.10/dist-packages (from matplotlib!=3.6.1,>=3.4->seaborn->ranx) (4.51.0)\n",
            "Requirement already satisfied: kiwisolver>=1.0.1 in /usr/local/lib/python3.10/dist-packages (from matplotlib!=3.6.1,>=3.4->seaborn->ranx) (1.4.5)\n",
            "Requirement already satisfied: pillow>=6.2.0 in /usr/local/lib/python3.10/dist-packages (from matplotlib!=3.6.1,>=3.4->seaborn->ranx) (9.4.0)\n",
            "Requirement already satisfied: pyparsing>=2.3.1 in /usr/local/lib/python3.10/dist-packages (from matplotlib!=3.6.1,>=3.4->seaborn->ranx) (3.1.2)\n",
            "Requirement already satisfied: six>=1.5 in /usr/local/lib/python3.10/dist-packages (from python-dateutil>=2.8.2->pandas->ranx) (1.16.0)\n",
            "Requirement already satisfied: charset-normalizer<4,>=2 in /usr/local/lib/python3.10/dist-packages (from requests>=2.22.0->ir-datasets->ranx) (3.3.2)\n",
            "Requirement already satisfied: idna<4,>=2.5 in /usr/local/lib/python3.10/dist-packages (from requests>=2.22.0->ir-datasets->ranx) (3.7)\n",
            "Requirement already satisfied: urllib3<3,>=1.21.1 in /usr/local/lib/python3.10/dist-packages (from requests>=2.22.0->ir-datasets->ranx) (2.0.7)\n",
            "Requirement already satisfied: certifi>=2017.4.17 in /usr/local/lib/python3.10/dist-packages (from requests>=2.22.0->ir-datasets->ranx) (2024.2.2)\n",
            "Collecting cbor>=1.0.0 (from trec-car-tools>=2.5.4->ir-datasets->ranx)\n",
            "  Downloading cbor-1.0.0.tar.gz (20 kB)\n",
            "  Preparing metadata (setup.py) ... \u001b[?25l\u001b[?25hdone\n",
            "Building wheels for collected packages: warc3-wet-clueweb09, zlib-state, cbor\n",
            "  Building wheel for warc3-wet-clueweb09 (setup.py) ... \u001b[?25l\u001b[?25hdone\n",
            "  Created wheel for warc3-wet-clueweb09: filename=warc3_wet_clueweb09-0.2.5-py3-none-any.whl size=18919 sha256=b12fc994ec75bb46f79a8d2ad018ad2c3dee956434d06c6815d5575f76b15b12\n",
            "  Stored in directory: /root/.cache/pip/wheels/1a/d7/91/7ffb991df87e62355d945745035470ba2616aa3d83a250b5f9\n",
            "  Building wheel for zlib-state (pyproject.toml) ... \u001b[?25l\u001b[?25hdone\n",
            "  Created wheel for zlib-state: filename=zlib_state-0.1.6-cp310-cp310-linux_x86_64.whl size=21162 sha256=2e7d6f882b3d91472e0e7cb82906f0e1b3a66928c2f39926b76619c1bf810b5c\n",
            "  Stored in directory: /root/.cache/pip/wheels/32/72/7e/aff80f26e926b6e1fb08dfb52aba03c0e058f5e2258deb50a9\n",
            "  Building wheel for cbor (setup.py) ... \u001b[?25l\u001b[?25hdone\n",
            "  Created wheel for cbor: filename=cbor-1.0.0-cp310-cp310-linux_x86_64.whl size=53433 sha256=c9334767e80d015edc33f9e61cf624694cdd6da85c01b432321536297fca4bf5\n",
            "  Stored in directory: /root/.cache/pip/wheels/85/df/c9/b39e40eccaf76dbd218556639a6dc81562226f4c6a64902c85\n",
            "Successfully built warc3-wet-clueweb09 zlib-state cbor\n",
            "Installing collected packages: warc3-wet-clueweb09, warc3-wet, ijson, cbor, zlib-state, unlzw3, trec-car-tools, orjson, lz4, cramjam, cbor2, inscriptis, ir-datasets, fastparquet, ranx\n",
            "Successfully installed cbor-1.0.0 cbor2-5.6.3 cramjam-2.8.3 fastparquet-2024.2.0 ijson-3.2.3 inscriptis-2.5.0 ir-datasets-0.5.7 lz4-4.3.3 orjson-3.10.3 ranx-0.3.19 trec-car-tools-2.6 unlzw3-0.2.2 warc3-wet-0.2.3 warc3-wet-clueweb09-0.2.5 zlib-state-0.1.6\n"
          ]
        }
      ],
      "source": [
        "!pip install ranx"
      ]
    },
    {
      "cell_type": "markdown",
      "metadata": {
        "id": "v4m91j1F3qV0"
      },
      "source": [
        "### Imports"
      ]
    },
    {
      "cell_type": "code",
      "execution_count": null,
      "metadata": {
        "id": "LZijs1Rg3jV-"
      },
      "outputs": [],
      "source": [
        "import os\n",
        "import gzip\n",
        "import logging\n",
        "from collections import defaultdict\n",
        "from ranx import Qrels, Run, fuse, optimize_fusion, evaluate\n",
        "from google.colab import drive\n",
        "from ranx import fuse, optimize_fusion, evaluate\n",
        "import numpy as np\n",
        "from google.colab import drive\n",
        "import os\n",
        "from ranx import Run"
      ]
    },
    {
      "cell_type": "markdown",
      "metadata": {
        "id": "pC4ELxc8vyS-"
      },
      "source": [
        "## Some Preparation"
      ]
    },
    {
      "cell_type": "markdown",
      "metadata": {
        "id": "DKV4MRNp0nXQ"
      },
      "source": [
        "### Get qrels"
      ]
    },
    {
      "cell_type": "code",
      "execution_count": null,
      "metadata": {
        "colab": {
          "base_uri": "https://localhost:8080/"
        },
        "id": "7sBmE_Xr3Wvf",
        "outputId": "56dbf99f-1f22-47d4-b771-e2e9e7dff245"
      },
      "outputs": [
        {
          "name": "stdout",
          "output_type": "stream",
          "text": [
            "--2024-05-17 15:30:07--  https://msmarco.z22.web.core.windows.net/msmarcoranking/queries.tar.gz\n",
            "Resolving msmarco.z22.web.core.windows.net (msmarco.z22.web.core.windows.net)... 20.150.34.1\n",
            "Connecting to msmarco.z22.web.core.windows.net (msmarco.z22.web.core.windows.net)|20.150.34.1|:443... connected.\n",
            "HTTP request sent, awaiting response... 200 OK\n",
            "Length: 18882551 (18M) [application/gzip]\n",
            "Saving to: ‘queries.tar.gz.1’\n",
            "\n",
            "queries.tar.gz.1    100%[===================>]  18.01M  28.6MB/s    in 0.6s    \n",
            "\n",
            "2024-05-17 15:30:08 (28.6 MB/s) - ‘queries.tar.gz.1’ saved [18882551/18882551]\n",
            "\n",
            "queries.dev.tsv\n",
            "queries.eval.tsv\n",
            "queries.train.tsv\n"
          ]
        }
      ],
      "source": [
        "data_folder = 'trec2019-data'\n",
        "os.makedirs(data_folder, exist_ok=True)\n",
        "\n",
        "!wget https://msmarco.z22.web.core.windows.net/msmarcoranking/queries.tar.gz\n",
        "!tar -xvzf queries.tar.gz\n",
        "\n",
        "model_save_path = \"/content/gdrive/MyDrive/cross-encoder-reranker-ir-course-2023/finetuned_models/cross-encoder-distilbert-distilroberta-base-2024-05-12_07-39-41\"\n",
        "\n",
        "queries = {}\n",
        "queries_filepath = os.path.join(data_folder, 'msmarco-test2019-queries.tsv.gz')\n",
        "if not os.path.exists(queries_filepath):\n",
        "    logging.info(\"Download \" + os.path.basename(queries_filepath))\n",
        "    !wget https://msmarco.z22.web.core.windows.net/msmarcoranking/msmarco-test2019-queries.tsv.gz -O {queries_filepath}\n",
        "\n",
        "with gzip.open(queries_filepath, 'rt', encoding='utf8') as fIn:\n",
        "    for line in fIn:\n",
        "        qid, query = line.strip().split(\"\\t\")\n",
        "        queries[qid] = query\n",
        "\n",
        "relevant_docs = defaultdict(lambda: defaultdict(int))\n",
        "qrels_filepath = os.path.join(data_folder, '2019qrels-pass.txt')\n",
        "\n",
        "if not os.path.exists(qrels_filepath):\n",
        "    logging.info(\"Download \" + os.path.basename(qrels_filepath))\n",
        "    !wget https://trec.nist.gov/data/deep/2019qrels-pass.txt -O {qrels_filepath}\n",
        "\n",
        "with open(qrels_filepath) as fIn:\n",
        "    for line in fIn:\n",
        "        qid, _, pid, score = line.strip().split()\n",
        "        score = int(score)\n",
        "        if score > 0:\n",
        "            relevant_docs[qid][pid] = score\n",
        "\n",
        "relevant_qid = [qid for qid in queries if len(relevant_docs[qid]) > 0]\n",
        "\n",
        "qrels = Qrels(relevant_docs)"
      ]
    },
    {
      "cell_type": "markdown",
      "metadata": {
        "id": "vHkPMF7M0ily"
      },
      "source": [
        "### Get Run Files"
      ]
    },
    {
      "cell_type": "code",
      "execution_count": null,
      "metadata": {
        "colab": {
          "base_uri": "https://localhost:8080/"
        },
        "id": "mowOQArcv1du",
        "outputId": "063b9534-cd86-4c24-9728-2cc3ae9f07aa"
      },
      "outputs": [
        {
          "name": "stdout",
          "output_type": "stream",
          "text": [
            "Drive already mounted at /content/gdrive; to attempt to forcibly remount, call drive.mount(\"/content/gdrive\", force_remount=True).\n"
          ]
        }
      ],
      "source": [
        "drive.mount('/content/gdrive')\n",
        "\n",
        "base_path = \"/content/gdrive/MyDrive/cross-encoder-reranker-ir-course-2023/\"\n",
        "\n",
        "file_paths = [\n",
        "    \"finetuned_models/cross-encoder-cross-encoder-ms-marco-MiniLM-L-2-v2-2024-05-10_20-46-58ranking.run\",\n",
        "    \"finetuned_models/cross-encoder-cross-encoder-ms-marco-TinyBERT-L-2-v2-2024-05-11_07-11-32ranking.run\",\n",
        "    \"finetuned_models/cross-encoder-distilbert-distilroberta-base-2024-05-12_07-39-41ranking.run\"\n",
        "]\n",
        "\n",
        "runs = []\n",
        "for file_path in file_paths:\n",
        "    full_path = os.path.join(base_path, file_path)\n",
        "    run = Run.from_file(full_path, kind=\"trec\")\n",
        "    runs.append(run)\n",
        "\n",
        "common_qids = set(qrels.qrels.keys()).intersection(*[run.keys() for run in runs])\n",
        "\n",
        "filtered_qrels = {qid: {doc_id: score for doc_id, score in qrels[qid].items()} for qid in common_qids}\n",
        "filtered_runs = [{qid: run[qid] for qid in common_qids} for run in runs]\n",
        "\n",
        "qrels = Qrels(filtered_qrels)\n",
        "runs = [Run(run) for run in filtered_runs]"
      ]
    },
    {
      "cell_type": "markdown",
      "metadata": {
        "id": "ffH220i90uOD"
      },
      "source": [
        "### Get best_params"
      ]
    },
    {
      "cell_type": "markdown",
      "metadata": {
        "id": "yLXQ5vE4yNCS"
      },
      "source": [
        "## Ensemble Methods"
      ]
    },
    {
      "cell_type": "markdown",
      "metadata": {
        "id": "_K4XUmvl8mbx"
      },
      "source": [
        "### 1. RRF (Reciprocal Rank Fusion, Rank-based Method)"
      ]
    },
    {
      "cell_type": "code",
      "execution_count": null,
      "metadata": {
        "colab": {
          "base_uri": "https://localhost:8080/",
          "height": 123,
          "referenced_widgets": [
            "ee4ed06ccd2b4bb3b574ded808426f9b",
            "6ab4927532624211a5acd26ec8d29c1d"
          ]
        },
        "id": "l-qw9sWZtFPc",
        "outputId": "9e373217-744c-4a08-9bb0-bf05d2a2e552"
      },
      "outputs": [
        {
          "data": {
            "application/vnd.jupyter.widget-view+json": {
              "model_id": "ee4ed06ccd2b4bb3b574ded808426f9b",
              "version_major": 2,
              "version_minor": 0
            },
            "text/plain": [
              "Output()"
            ]
          },
          "metadata": {},
          "output_type": "display_data"
        },
        {
          "data": {
            "text/html": [
              "<pre style=\"white-space:pre;overflow-x:auto;line-height:normal;font-family:Menlo,'DejaVu Sans Mono',consolas,'Courier New',monospace\"></pre>\n"
            ],
            "text/plain": []
          },
          "metadata": {},
          "output_type": "display_data"
        },
        {
          "data": {
            "text/html": [
              "<pre style=\"white-space:pre;overflow-x:auto;line-height:normal;font-family:Menlo,'DejaVu Sans Mono',consolas,'Courier New',monospace\">\n",
              "</pre>\n"
            ],
            "text/plain": [
              "\n"
            ]
          },
          "metadata": {},
          "output_type": "display_data"
        },
        {
          "name": "stdout",
          "output_type": "stream",
          "text": [
            "{'ndcg@10': 0.7016068663669671, 'recall@100': 0.5144399762612633, 'map@1000': 0.4635443281120344}\n",
            "Queries: 43\n",
            "NDCG@10: 70.16\n",
            "Recall@100: 51.44\n",
            "MAP@1000: 46.35\n"
          ]
        }
      ],
      "source": [
        "# 1. RRF (Reciprocal Rank Fusion, Rank-based Method)\n",
        "\n",
        "best_params = optimize_fusion(\n",
        "    qrels=qrels,\n",
        "    runs=runs,\n",
        "    norm=\"min-max\",\n",
        "    method=\"rrf\",\n",
        "    metric=\"ndcg@100\"\n",
        ")\n",
        "\n",
        "combined_run = fuse(\n",
        "    runs=runs,\n",
        "    norm=\"min-max\",\n",
        "    method=\"rrf\",\n",
        "    params=best_params,\n",
        ")\n",
        "\n",
        "metrics = evaluate(\n",
        "    qrels=qrels,\n",
        "    run=combined_run,\n",
        "    metrics=[\"ndcg@10\", \"recall@100\", \"map@1000\"]\n",
        ")\n",
        "\n",
        "print(metrics)\n",
        "\n",
        "ndcg_10 = metrics['ndcg@10'] * 100\n",
        "recall_100 = metrics['recall@100'] * 100\n",
        "map_1000 = metrics['map@1000'] * 100\n",
        "\n",
        "print(f\"Queries: {len(common_qids)}\")\n",
        "print(f\"NDCG@10: {ndcg_10:.2f}\")\n",
        "print(f\"Recall@100: {recall_100:.2f}\")\n",
        "print(f\"MAP@1000: {map_1000:.2f}\")"
      ]
    },
    {
      "cell_type": "markdown",
      "metadata": {
        "id": "A2wZEedx9Q9Z"
      },
      "source": [
        "### 2. BayesFuse"
      ]
    },
    {
      "cell_type": "code",
      "execution_count": null,
      "metadata": {
        "colab": {
          "base_uri": "https://localhost:8080/"
        },
        "id": "g_ozW3tX9JmZ",
        "outputId": "3abde815-079e-4831-f4a1-6a434ca32a14"
      },
      "outputs": [
        {
          "name": "stdout",
          "output_type": "stream",
          "text": [
            "{'ndcg@10': 0.6998484272244461, 'recall@100': 0.5154443882913463, 'map@1000': 0.45978124243682267}\n",
            "Queries: 43\n",
            "NDCG@10: 69.98\n",
            "Recall@100: 51.54\n",
            "MAP@1000: 45.98\n"
          ]
        }
      ],
      "source": [
        "# 2. BayesFuse\n",
        "\n",
        "best_params = optimize_fusion(\n",
        "    qrels=qrels,\n",
        "    runs=runs,\n",
        "    norm=\"min-max\",\n",
        "    method=\"bayesfuse\",\n",
        "    metric=\"ndcg@100\"\n",
        ")\n",
        "\n",
        "combined_run = fuse(\n",
        "    runs=runs,\n",
        "    norm=\"min-max\",\n",
        "    method=\"bayesfuse\",\n",
        "    params=best_params,\n",
        ")\n",
        "\n",
        "metrics = evaluate(\n",
        "    qrels=qrels,\n",
        "    run=combined_run,\n",
        "    metrics=[\"ndcg@10\", \"recall@100\", \"map@1000\"]\n",
        ")\n",
        "\n",
        "print(metrics)\n",
        "\n",
        "ndcg_10 = metrics['ndcg@10'] * 100\n",
        "recall_100 = metrics['recall@100'] * 100\n",
        "map_1000 = metrics['map@1000'] * 100\n",
        "\n",
        "print(f\"Queries: {len(common_qids)}\")\n",
        "print(f\"NDCG@10: {ndcg_10:.2f}\")\n",
        "print(f\"Recall@100: {recall_100:.2f}\")\n",
        "print(f\"MAP@1000: {map_1000:.2f}\")"
      ]
    },
    {
      "cell_type": "markdown",
      "metadata": {
        "id": "qhEjfrAO9gHN"
      },
      "source": [
        "### 3. Condorcet"
      ]
    },
    {
      "cell_type": "code",
      "execution_count": null,
      "metadata": {
        "colab": {
          "base_uri": "https://localhost:8080/"
        },
        "id": "3iN3grkv9i0e",
        "outputId": "d9a36659-688d-48d7-a950-2293645ac3cb"
      },
      "outputs": [
        {
          "name": "stdout",
          "output_type": "stream",
          "text": [
            "{'ndcg@10': 0.7007382254405954, 'recall@100': 0.5156299963943269, 'map@1000': 0.46261835497475695}\n",
            "Queries: 43\n",
            "NDCG@10: 70.07\n",
            "Recall@100: 51.56\n",
            "MAP@1000: 46.26\n"
          ]
        }
      ],
      "source": [
        "# 3. Condorcet (doesn't have optizie_fusion)\n",
        "\n",
        "combined_run = fuse(\n",
        "    runs=runs,\n",
        "    norm=\"min-max\",\n",
        "    method=\"condorcet\",\n",
        "    # params=best_params,\n",
        ")\n",
        "\n",
        "metrics = evaluate(\n",
        "    qrels=qrels,\n",
        "    run=combined_run,\n",
        "    metrics=[\"ndcg@10\", \"recall@100\", \"map@1000\"]\n",
        ")\n",
        "\n",
        "print(metrics)\n",
        "\n",
        "ndcg_10 = metrics['ndcg@10'] * 100\n",
        "recall_100 = metrics['recall@100'] * 100\n",
        "map_1000 = metrics['map@1000'] * 100\n",
        "\n",
        "print(f\"Queries: {len(common_qids)}\")\n",
        "print(f\"NDCG@10: {ndcg_10:.2f}\")\n",
        "print(f\"Recall@100: {recall_100:.2f}\")\n",
        "print(f\"MAP@1000: {map_1000:.2f}\")"
      ]
    },
    {
      "cell_type": "markdown",
      "metadata": {
        "id": "SVNTnp7e-ukh"
      },
      "source": [
        "### 4. CombSUM (doesn't have optizie_fusion)"
      ]
    },
    {
      "cell_type": "code",
      "execution_count": null,
      "metadata": {
        "colab": {
          "base_uri": "https://localhost:8080/"
        },
        "id": "y7-Fv57p--Yt",
        "outputId": "f88ae83f-6b66-4d33-9c6d-97a34d666ab3"
      },
      "outputs": [
        {
          "name": "stdout",
          "output_type": "stream",
          "text": [
            "{'ndcg@10': 0.6907513253280211, 'recall@100': 0.5098510683461052, 'map@1000': 0.4547381128449681}\n",
            "Queries: 43\n",
            "NDCG@10: 69.08\n",
            "Recall@100: 50.99\n",
            "MAP@1000: 45.47\n"
          ]
        }
      ],
      "source": [
        "# 4. CombSUM (doesn't have optizie_fusion)\n",
        "\n",
        "combined_run = fuse(\n",
        "    runs=runs,\n",
        "    norm=\"min-max\",\n",
        "    method=\"sum\",\n",
        "    # params=best_params,\n",
        ")\n",
        "\n",
        "metrics = evaluate(\n",
        "    qrels=qrels,\n",
        "    run=combined_run,\n",
        "    metrics=[\"ndcg@10\", \"recall@100\", \"map@1000\"]\n",
        ")\n",
        "\n",
        "print(metrics)\n",
        "\n",
        "ndcg_10 = metrics['ndcg@10'] * 100\n",
        "recall_100 = metrics['recall@100'] * 100\n",
        "map_1000 = metrics['map@1000'] * 100\n",
        "\n",
        "print(f\"Queries: {len(common_qids)}\")\n",
        "print(f\"NDCG@10: {ndcg_10:.2f}\")\n",
        "print(f\"Recall@100: {recall_100:.2f}\")\n",
        "print(f\"MAP@1000: {map_1000:.2f}\")"
      ]
    },
    {
      "cell_type": "markdown",
      "metadata": {
        "id": "467iBSyp_Tmu"
      },
      "source": [
        "### 5. BordaFuse (doesn't have optizie_fusion)"
      ]
    },
    {
      "cell_type": "code",
      "execution_count": null,
      "metadata": {
        "colab": {
          "base_uri": "https://localhost:8080/"
        },
        "id": "xHEKzYnf_WF4",
        "outputId": "2d3afcaa-da6b-42ff-d97b-b05801245358"
      },
      "outputs": [
        {
          "name": "stdout",
          "output_type": "stream",
          "text": [
            "{'ndcg@10': 0.7014228264342354, 'recall@100': 0.5129418478649971, 'map@1000': 0.462321250228213}\n",
            "Queries: 43\n",
            "NDCG@10: 70.14\n",
            "Recall@100: 51.29\n",
            "MAP@1000: 46.23\n"
          ]
        }
      ],
      "source": [
        "# 5. BordaFuse (doesn't have optizie_fusion)\n",
        "\n",
        "combined_run = fuse(\n",
        "    runs=runs,\n",
        "    norm=\"min-max\",\n",
        "    method=\"bordafuse\",\n",
        ")\n",
        "\n",
        "metrics = evaluate(\n",
        "    qrels=qrels,\n",
        "    run=combined_run,\n",
        "    metrics=[\"ndcg@10\", \"recall@100\", \"map@1000\"]\n",
        ")\n",
        "\n",
        "print(metrics)\n",
        "\n",
        "ndcg_10 = metrics['ndcg@10'] * 100\n",
        "recall_100 = metrics['recall@100'] * 100\n",
        "map_1000 = metrics['map@1000'] * 100\n",
        "\n",
        "print(f\"Queries: {len(common_qids)}\")\n",
        "print(f\"NDCG@10: {ndcg_10:.2f}\")\n",
        "print(f\"Recall@100: {recall_100:.2f}\")\n",
        "print(f\"MAP@1000: {map_1000:.2f}\")"
      ]
    }
  ],
  "metadata": {
    "accelerator": "GPU",
    "colab": {
      "machine_shape": "hm",
      "provenance": []
    },
    "gpuClass": "standard",
    "kernelspec": {
      "display_name": "Python 3",
      "name": "python3"
    },
    "language_info": {
      "name": "python"
    },
    "widgets": {
      "application/vnd.jupyter.widget-state+json": {
        "6ab4927532624211a5acd26ec8d29c1d": {
          "model_module": "@jupyter-widgets/base",
          "model_module_version": "1.2.0",
          "model_name": "LayoutModel",
          "state": {
            "_model_module": "@jupyter-widgets/base",
            "_model_module_version": "1.2.0",
            "_model_name": "LayoutModel",
            "_view_count": null,
            "_view_module": "@jupyter-widgets/base",
            "_view_module_version": "1.2.0",
            "_view_name": "LayoutView",
            "align_content": null,
            "align_items": null,
            "align_self": null,
            "border": null,
            "bottom": null,
            "display": null,
            "flex": null,
            "flex_flow": null,
            "grid_area": null,
            "grid_auto_columns": null,
            "grid_auto_flow": null,
            "grid_auto_rows": null,
            "grid_column": null,
            "grid_gap": null,
            "grid_row": null,
            "grid_template_areas": null,
            "grid_template_columns": null,
            "grid_template_rows": null,
            "height": null,
            "justify_content": null,
            "justify_items": null,
            "left": null,
            "margin": null,
            "max_height": null,
            "max_width": null,
            "min_height": null,
            "min_width": null,
            "object_fit": null,
            "object_position": null,
            "order": null,
            "overflow": null,
            "overflow_x": null,
            "overflow_y": null,
            "padding": null,
            "right": null,
            "top": null,
            "visibility": null,
            "width": null
          }
        },
        "ee4ed06ccd2b4bb3b574ded808426f9b": {
          "model_module": "@jupyter-widgets/output",
          "model_module_version": "1.0.0",
          "model_name": "OutputModel",
          "state": {
            "_dom_classes": [],
            "_model_module": "@jupyter-widgets/output",
            "_model_module_version": "1.0.0",
            "_model_name": "OutputModel",
            "_view_count": null,
            "_view_module": "@jupyter-widgets/output",
            "_view_module_version": "1.0.0",
            "_view_name": "OutputView",
            "layout": "IPY_MODEL_6ab4927532624211a5acd26ec8d29c1d",
            "msg_id": "",
            "outputs": [
              {
                "data": {
                  "text/html": "<pre style=\"white-space:pre;overflow-x:auto;line-height:normal;font-family:Menlo,'DejaVu Sans Mono',consolas,'Courier New',monospace\">Optimizing RRF <span style=\"color: #729c1f; text-decoration-color: #729c1f\">━━━━━━━━━━━━━━━━━━━━━━━━━━━━━━━━━━━━━━━━</span> <span style=\"color: #800080; text-decoration-color: #800080\">100%</span> <span style=\"color: #808000; text-decoration-color: #808000\">0:00:13</span>\n</pre>\n",
                  "text/plain": "Optimizing RRF \u001b[38;2;114;156;31m━━━━━━━━━━━━━━━━━━━━━━━━━━━━━━━━━━━━━━━━\u001b[0m \u001b[35m100%\u001b[0m \u001b[33m0:00:13\u001b[0m\n"
                },
                "metadata": {},
                "output_type": "display_data"
              }
            ]
          }
        }
      }
    }
  },
  "nbformat": 4,
  "nbformat_minor": 0
}
